{
 "cells": [
  {
   "cell_type": "code",
   "execution_count": 108,
   "metadata": {},
   "outputs": [],
   "source": [
    "import openpyxl\n",
    "import pandas as pd"
   ]
  },
  {
   "cell_type": "markdown",
   "metadata": {},
   "source": [
    "##### 파일 불러오기"
   ]
  },
  {
   "cell_type": "code",
   "execution_count": 208,
   "metadata": {},
   "outputs": [],
   "source": [
    "area=pd.read_excel('./area.xlsx')\n",
    "area2=pd.read_excel('./area.xlsx').copy()\n",
    "\n",
    "pricepop=pd.read_excel('./pricepop.xlsx')\n",
    "pricepop2=pd.read_excel('./pricepop.xlsx').copy()"
   ]
  },
  {
   "cell_type": "markdown",
   "metadata": {},
   "source": [
    "###### 중복값 없이 잘 크롤링 되었는지 확인 -> 중복값이 있었으므로 일일히 확인 후 편집\n",
    "###### 중복값이 없음을 확인"
   ]
  },
  {
   "cell_type": "code",
   "execution_count": 209,
   "metadata": {
    "scrolled": false
   },
   "outputs": [],
   "source": [
    "#area\n",
    "for i in range(len(area['행정구역'])):\n",
    "    for j in range(i+1,len(area['행정구역'])):\n",
    "        if area['행정구역'][i]==area['행정구역'][j]:\n",
    "            print(area['순번'][i])"
   ]
  },
  {
   "cell_type": "code",
   "execution_count": 210,
   "metadata": {},
   "outputs": [],
   "source": [
    "#pricepop\n",
    "for i in range(len(pricepop['행정구역'])):\n",
    "    for j in range(i+1,len(pricepop['행정구역'])):\n",
    "        if pricepop['행정구역'][i]==pricepop['행정구역'][j]:\n",
    "            print(pricepop['순번'][i])"
   ]
  },
  {
   "cell_type": "markdown",
   "metadata": {},
   "source": [
    "###### 파일의 형태 및 길이"
   ]
  },
  {
   "cell_type": "code",
   "execution_count": 211,
   "metadata": {},
   "outputs": [
    {
     "data": {
      "text/html": [
       "<div>\n",
       "<style scoped>\n",
       "    .dataframe tbody tr th:only-of-type {\n",
       "        vertical-align: middle;\n",
       "    }\n",
       "\n",
       "    .dataframe tbody tr th {\n",
       "        vertical-align: top;\n",
       "    }\n",
       "\n",
       "    .dataframe thead th {\n",
       "        text-align: right;\n",
       "    }\n",
       "</style>\n",
       "<table border=\"1\" class=\"dataframe\">\n",
       "  <thead>\n",
       "    <tr style=\"text-align: right;\">\n",
       "      <th></th>\n",
       "      <th>상권종류</th>\n",
       "      <th>순번</th>\n",
       "      <th>행정구역</th>\n",
       "      <th>상권면적</th>\n",
       "    </tr>\n",
       "  </thead>\n",
       "  <tbody>\n",
       "    <tr>\n",
       "      <th>0</th>\n",
       "      <td>골목상권</td>\n",
       "      <td>1</td>\n",
       "      <td>계동길</td>\n",
       "      <td>125350.78</td>\n",
       "    </tr>\n",
       "    <tr>\n",
       "      <th>1</th>\n",
       "      <td>골목상권</td>\n",
       "      <td>2</td>\n",
       "      <td>난계로27길</td>\n",
       "      <td>31696.16</td>\n",
       "    </tr>\n",
       "    <tr>\n",
       "      <th>2</th>\n",
       "      <td>골목상권</td>\n",
       "      <td>3</td>\n",
       "      <td>돈화문로11가길</td>\n",
       "      <td>113805.69</td>\n",
       "    </tr>\n",
       "    <tr>\n",
       "      <th>3</th>\n",
       "      <td>골목상권</td>\n",
       "      <td>4</td>\n",
       "      <td>명륜길</td>\n",
       "      <td>44023.15</td>\n",
       "    </tr>\n",
       "    <tr>\n",
       "      <th>4</th>\n",
       "      <td>골목상권</td>\n",
       "      <td>5</td>\n",
       "      <td>백석동길</td>\n",
       "      <td>367064.09</td>\n",
       "    </tr>\n",
       "  </tbody>\n",
       "</table>\n",
       "</div>"
      ],
      "text/plain": [
       "   상권종류  순번      행정구역       상권면적\n",
       "0  골목상권   1       계동길  125350.78\n",
       "1  골목상권   2    난계로27길   31696.16\n",
       "2  골목상권   3  돈화문로11가길  113805.69\n",
       "3  골목상권   4       명륜길   44023.15\n",
       "4  골목상권   5      백석동길  367064.09"
      ]
     },
     "execution_count": 211,
     "metadata": {},
     "output_type": "execute_result"
    }
   ],
   "source": [
    "area[0:5]"
   ]
  },
  {
   "cell_type": "code",
   "execution_count": 212,
   "metadata": {
    "scrolled": true
   },
   "outputs": [
    {
     "data": {
      "text/html": [
       "<div>\n",
       "<style scoped>\n",
       "    .dataframe tbody tr th:only-of-type {\n",
       "        vertical-align: middle;\n",
       "    }\n",
       "\n",
       "    .dataframe tbody tr th {\n",
       "        vertical-align: top;\n",
       "    }\n",
       "\n",
       "    .dataframe thead th {\n",
       "        text-align: right;\n",
       "    }\n",
       "</style>\n",
       "<table border=\"1\" class=\"dataframe\">\n",
       "  <thead>\n",
       "    <tr style=\"text-align: right;\">\n",
       "      <th></th>\n",
       "      <th>상권종류</th>\n",
       "      <th>순번</th>\n",
       "      <th>행정구역</th>\n",
       "      <th>임대시세</th>\n",
       "      <th>상존인구</th>\n",
       "    </tr>\n",
       "  </thead>\n",
       "  <tbody>\n",
       "    <tr>\n",
       "      <th>0</th>\n",
       "      <td>골목상권</td>\n",
       "      <td>1</td>\n",
       "      <td>계동길 (가회동)</td>\n",
       "      <td>146286</td>\n",
       "      <td>33247</td>\n",
       "    </tr>\n",
       "    <tr>\n",
       "      <th>1</th>\n",
       "      <td>골목상권</td>\n",
       "      <td>2</td>\n",
       "      <td>난계로27길 (숭인2동)</td>\n",
       "      <td>97158</td>\n",
       "      <td>122105</td>\n",
       "    </tr>\n",
       "    <tr>\n",
       "      <th>2</th>\n",
       "      <td>골목상권</td>\n",
       "      <td>3</td>\n",
       "      <td>돈화문로11가길 (종로1.2.3.4가동)</td>\n",
       "      <td>205633</td>\n",
       "      <td>21928</td>\n",
       "    </tr>\n",
       "    <tr>\n",
       "      <th>3</th>\n",
       "      <td>골목상권</td>\n",
       "      <td>4</td>\n",
       "      <td>명륜길 (혜화동)</td>\n",
       "      <td>136226</td>\n",
       "      <td>197932</td>\n",
       "    </tr>\n",
       "    <tr>\n",
       "      <th>4</th>\n",
       "      <td>골목상권</td>\n",
       "      <td>5</td>\n",
       "      <td>백석동길 (부암동)</td>\n",
       "      <td>86670</td>\n",
       "      <td>4856</td>\n",
       "    </tr>\n",
       "  </tbody>\n",
       "</table>\n",
       "</div>"
      ],
      "text/plain": [
       "   상권종류  순번                    행정구역    임대시세    상존인구\n",
       "0  골목상권   1               계동길 (가회동)  146286   33247\n",
       "1  골목상권   2           난계로27길 (숭인2동)   97158  122105\n",
       "2  골목상권   3  돈화문로11가길 (종로1.2.3.4가동)  205633   21928\n",
       "3  골목상권   4               명륜길 (혜화동)  136226  197932\n",
       "4  골목상권   5              백석동길 (부암동)   86670    4856"
      ]
     },
     "execution_count": 212,
     "metadata": {},
     "output_type": "execute_result"
    }
   ],
   "source": [
    "pricepop[0:5]"
   ]
  },
  {
   "cell_type": "code",
   "execution_count": 213,
   "metadata": {},
   "outputs": [
    {
     "data": {
      "text/plain": [
       "(1496, 1496)"
      ]
     },
     "execution_count": 213,
     "metadata": {},
     "output_type": "execute_result"
    }
   ],
   "source": [
    "len(area),len(pricepop)"
   ]
  },
  {
   "cell_type": "markdown",
   "metadata": {},
   "source": [
    "###### 두 파일을 합치기 위해 pricepop2['상존인구']의 (괄호안) 내용 지우기"
   ]
  },
  {
   "cell_type": "code",
   "execution_count": 214,
   "metadata": {},
   "outputs": [],
   "source": [
    "import re"
   ]
  },
  {
   "cell_type": "code",
   "execution_count": 215,
   "metadata": {
    "scrolled": true
   },
   "outputs": [
    {
     "name": "stderr",
     "output_type": "stream",
     "text": [
      "C:\\Users\\DoHyun\\Anaconda3\\lib\\site-packages\\ipykernel_launcher.py:4: SettingWithCopyWarning: \n",
      "A value is trying to be set on a copy of a slice from a DataFrame\n",
      "\n",
      "See the caveats in the documentation: http://pandas.pydata.org/pandas-docs/stable/indexing.html#indexing-view-versus-copy\n",
      "  after removing the cwd from sys.path.\n"
     ]
    }
   ],
   "source": [
    "pricepop2=pd.read_excel('./pricepop.xlsx').copy()\n",
    "for i in range(0,len(pricepop2['행정구역'])):\n",
    "    if type(pricepop2['행정구역'][i])==str:\n",
    "        pricepop2['행정구역'][i]=re.sub(r'\\([^())]*\\)','',pricepop2['행정구역'][i]).strip()\n",
    "    if type(pricepop2['행정구역'][i])!=str:\n",
    "        pricepop2['행정구역'][i]=pricepop2['행정구역'][i]"
   ]
  },
  {
   "cell_type": "code",
   "execution_count": 218,
   "metadata": {
    "scrolled": true
   },
   "outputs": [
    {
     "data": {
      "text/html": [
       "<div>\n",
       "<style scoped>\n",
       "    .dataframe tbody tr th:only-of-type {\n",
       "        vertical-align: middle;\n",
       "    }\n",
       "\n",
       "    .dataframe tbody tr th {\n",
       "        vertical-align: top;\n",
       "    }\n",
       "\n",
       "    .dataframe thead th {\n",
       "        text-align: right;\n",
       "    }\n",
       "</style>\n",
       "<table border=\"1\" class=\"dataframe\">\n",
       "  <thead>\n",
       "    <tr style=\"text-align: right;\">\n",
       "      <th></th>\n",
       "      <th>상권종류</th>\n",
       "      <th>순번</th>\n",
       "      <th>행정구역</th>\n",
       "      <th>상권면적</th>\n",
       "    </tr>\n",
       "  </thead>\n",
       "  <tbody>\n",
       "    <tr>\n",
       "      <th>0</th>\n",
       "      <td>골목상권</td>\n",
       "      <td>1</td>\n",
       "      <td>계동길</td>\n",
       "      <td>125350.78</td>\n",
       "    </tr>\n",
       "    <tr>\n",
       "      <th>1</th>\n",
       "      <td>골목상권</td>\n",
       "      <td>2</td>\n",
       "      <td>난계로27길</td>\n",
       "      <td>31696.16</td>\n",
       "    </tr>\n",
       "    <tr>\n",
       "      <th>2</th>\n",
       "      <td>골목상권</td>\n",
       "      <td>3</td>\n",
       "      <td>돈화문로11가길</td>\n",
       "      <td>113805.69</td>\n",
       "    </tr>\n",
       "    <tr>\n",
       "      <th>3</th>\n",
       "      <td>골목상권</td>\n",
       "      <td>4</td>\n",
       "      <td>명륜길</td>\n",
       "      <td>44023.15</td>\n",
       "    </tr>\n",
       "    <tr>\n",
       "      <th>4</th>\n",
       "      <td>골목상권</td>\n",
       "      <td>5</td>\n",
       "      <td>백석동길</td>\n",
       "      <td>367064.09</td>\n",
       "    </tr>\n",
       "  </tbody>\n",
       "</table>\n",
       "</div>"
      ],
      "text/plain": [
       "   상권종류  순번      행정구역       상권면적\n",
       "0  골목상권   1       계동길  125350.78\n",
       "1  골목상권   2    난계로27길   31696.16\n",
       "2  골목상권   3  돈화문로11가길  113805.69\n",
       "3  골목상권   4       명륜길   44023.15\n",
       "4  골목상권   5      백석동길  367064.09"
      ]
     },
     "execution_count": 218,
     "metadata": {},
     "output_type": "execute_result"
    }
   ],
   "source": [
    "area[0:5]"
   ]
  },
  {
   "cell_type": "code",
   "execution_count": 217,
   "metadata": {},
   "outputs": [
    {
     "data": {
      "text/html": [
       "<div>\n",
       "<style scoped>\n",
       "    .dataframe tbody tr th:only-of-type {\n",
       "        vertical-align: middle;\n",
       "    }\n",
       "\n",
       "    .dataframe tbody tr th {\n",
       "        vertical-align: top;\n",
       "    }\n",
       "\n",
       "    .dataframe thead th {\n",
       "        text-align: right;\n",
       "    }\n",
       "</style>\n",
       "<table border=\"1\" class=\"dataframe\">\n",
       "  <thead>\n",
       "    <tr style=\"text-align: right;\">\n",
       "      <th></th>\n",
       "      <th>상권종류</th>\n",
       "      <th>순번</th>\n",
       "      <th>행정구역</th>\n",
       "      <th>임대시세</th>\n",
       "      <th>상존인구</th>\n",
       "    </tr>\n",
       "  </thead>\n",
       "  <tbody>\n",
       "    <tr>\n",
       "      <th>0</th>\n",
       "      <td>골목상권</td>\n",
       "      <td>1</td>\n",
       "      <td>계동길 (가회동)</td>\n",
       "      <td>146286</td>\n",
       "      <td>33247</td>\n",
       "    </tr>\n",
       "    <tr>\n",
       "      <th>1</th>\n",
       "      <td>골목상권</td>\n",
       "      <td>2</td>\n",
       "      <td>난계로27길 (숭인2동)</td>\n",
       "      <td>97158</td>\n",
       "      <td>122105</td>\n",
       "    </tr>\n",
       "    <tr>\n",
       "      <th>2</th>\n",
       "      <td>골목상권</td>\n",
       "      <td>3</td>\n",
       "      <td>돈화문로11가길 (종로1.2.3.4가동)</td>\n",
       "      <td>205633</td>\n",
       "      <td>21928</td>\n",
       "    </tr>\n",
       "    <tr>\n",
       "      <th>3</th>\n",
       "      <td>골목상권</td>\n",
       "      <td>4</td>\n",
       "      <td>명륜길 (혜화동)</td>\n",
       "      <td>136226</td>\n",
       "      <td>197932</td>\n",
       "    </tr>\n",
       "    <tr>\n",
       "      <th>4</th>\n",
       "      <td>골목상권</td>\n",
       "      <td>5</td>\n",
       "      <td>백석동길 (부암동)</td>\n",
       "      <td>86670</td>\n",
       "      <td>4856</td>\n",
       "    </tr>\n",
       "  </tbody>\n",
       "</table>\n",
       "</div>"
      ],
      "text/plain": [
       "   상권종류  순번                    행정구역    임대시세    상존인구\n",
       "0  골목상권   1               계동길 (가회동)  146286   33247\n",
       "1  골목상권   2           난계로27길 (숭인2동)   97158  122105\n",
       "2  골목상권   3  돈화문로11가길 (종로1.2.3.4가동)  205633   21928\n",
       "3  골목상권   4               명륜길 (혜화동)  136226  197932\n",
       "4  골목상권   5              백석동길 (부암동)   86670    4856"
      ]
     },
     "execution_count": 217,
     "metadata": {},
     "output_type": "execute_result"
    }
   ],
   "source": [
    "pricepop2[0:5]"
   ]
  },
  {
   "cell_type": "code",
   "execution_count": 152,
   "metadata": {},
   "outputs": [
    {
     "data": {
      "text/plain": [
       "(1496, 1496)"
      ]
     },
     "execution_count": 152,
     "metadata": {},
     "output_type": "execute_result"
    }
   ],
   "source": [
    "len(area),len(pricepop2)"
   ]
  },
  {
   "cell_type": "markdown",
   "metadata": {},
   "source": [
    "###### pricepop2(괄호없는 행정구역)을 pricepop(괄호있는 행정구역)을 이용하여 (괄호) 붙이기"
   ]
  },
  {
   "cell_type": "code",
   "execution_count": 216,
   "metadata": {},
   "outputs": [
    {
     "name": "stderr",
     "output_type": "stream",
     "text": [
      "C:\\Users\\DoHyun\\Anaconda3\\lib\\site-packages\\ipykernel_launcher.py:4: SettingWithCopyWarning: \n",
      "A value is trying to be set on a copy of a slice from a DataFrame\n",
      "\n",
      "See the caveats in the documentation: http://pandas.pydata.org/pandas-docs/stable/indexing.html#indexing-view-versus-copy\n",
      "  after removing the cwd from sys.path.\n"
     ]
    }
   ],
   "source": [
    "for i in range(0,len(pricepop2)):\n",
    "    for j in range(0,len(pricepop)):\n",
    "        if pricepop2['행정구역'][i] in pricepop['행정구역'][j]:\n",
    "            pricepop2['행정구역'][i]= pricepop['행정구역'][j]"
   ]
  },
  {
   "cell_type": "code",
   "execution_count": 219,
   "metadata": {},
   "outputs": [
    {
     "data": {
      "text/html": [
       "<div>\n",
       "<style scoped>\n",
       "    .dataframe tbody tr th:only-of-type {\n",
       "        vertical-align: middle;\n",
       "    }\n",
       "\n",
       "    .dataframe tbody tr th {\n",
       "        vertical-align: top;\n",
       "    }\n",
       "\n",
       "    .dataframe thead th {\n",
       "        text-align: right;\n",
       "    }\n",
       "</style>\n",
       "<table border=\"1\" class=\"dataframe\">\n",
       "  <thead>\n",
       "    <tr style=\"text-align: right;\">\n",
       "      <th></th>\n",
       "      <th>상권종류</th>\n",
       "      <th>순번</th>\n",
       "      <th>행정구역</th>\n",
       "      <th>임대시세</th>\n",
       "      <th>상존인구</th>\n",
       "    </tr>\n",
       "  </thead>\n",
       "  <tbody>\n",
       "    <tr>\n",
       "      <th>0</th>\n",
       "      <td>골목상권</td>\n",
       "      <td>1</td>\n",
       "      <td>계동길 (가회동)</td>\n",
       "      <td>146286</td>\n",
       "      <td>33247</td>\n",
       "    </tr>\n",
       "    <tr>\n",
       "      <th>1</th>\n",
       "      <td>골목상권</td>\n",
       "      <td>2</td>\n",
       "      <td>난계로27길 (숭인2동)</td>\n",
       "      <td>97158</td>\n",
       "      <td>122105</td>\n",
       "    </tr>\n",
       "    <tr>\n",
       "      <th>2</th>\n",
       "      <td>골목상권</td>\n",
       "      <td>3</td>\n",
       "      <td>돈화문로11가길 (종로1.2.3.4가동)</td>\n",
       "      <td>205633</td>\n",
       "      <td>21928</td>\n",
       "    </tr>\n",
       "    <tr>\n",
       "      <th>3</th>\n",
       "      <td>골목상권</td>\n",
       "      <td>4</td>\n",
       "      <td>명륜길 (혜화동)</td>\n",
       "      <td>136226</td>\n",
       "      <td>197932</td>\n",
       "    </tr>\n",
       "    <tr>\n",
       "      <th>4</th>\n",
       "      <td>골목상권</td>\n",
       "      <td>5</td>\n",
       "      <td>백석동길 (부암동)</td>\n",
       "      <td>86670</td>\n",
       "      <td>4856</td>\n",
       "    </tr>\n",
       "  </tbody>\n",
       "</table>\n",
       "</div>"
      ],
      "text/plain": [
       "   상권종류  순번                    행정구역    임대시세    상존인구\n",
       "0  골목상권   1               계동길 (가회동)  146286   33247\n",
       "1  골목상권   2           난계로27길 (숭인2동)   97158  122105\n",
       "2  골목상권   3  돈화문로11가길 (종로1.2.3.4가동)  205633   21928\n",
       "3  골목상권   4               명륜길 (혜화동)  136226  197932\n",
       "4  골목상권   5              백석동길 (부암동)   86670    4856"
      ]
     },
     "execution_count": 219,
     "metadata": {},
     "output_type": "execute_result"
    }
   ],
   "source": [
    "pricepop2[0:5]"
   ]
  },
  {
   "cell_type": "markdown",
   "metadata": {},
   "source": [
    "###### pricepop2에 상권면적 추가"
   ]
  },
  {
   "cell_type": "code",
   "execution_count": 225,
   "metadata": {},
   "outputs": [
    {
     "name": "stderr",
     "output_type": "stream",
     "text": [
      "C:\\Users\\DoHyun\\Anaconda3\\lib\\site-packages\\ipykernel_launcher.py:5: SettingWithCopyWarning: \n",
      "A value is trying to be set on a copy of a slice from a DataFrame\n",
      "\n",
      "See the caveats in the documentation: http://pandas.pydata.org/pandas-docs/stable/indexing.html#indexing-view-versus-copy\n",
      "  \"\"\"\n"
     ]
    }
   ],
   "source": [
    "pricepop2['상권면적']=''\n",
    "for i in range(0,len(area)):\n",
    "    for j in range(0,len(pricepop2)):\n",
    "        if area['행정구역'][i] in pricepop2['행정구역'][j]:\n",
    "            pricepop2['상권면적'][j]= area['상권면적'][i]"
   ]
  },
  {
   "cell_type": "code",
   "execution_count": 228,
   "metadata": {},
   "outputs": [
    {
     "data": {
      "text/html": [
       "<div>\n",
       "<style scoped>\n",
       "    .dataframe tbody tr th:only-of-type {\n",
       "        vertical-align: middle;\n",
       "    }\n",
       "\n",
       "    .dataframe tbody tr th {\n",
       "        vertical-align: top;\n",
       "    }\n",
       "\n",
       "    .dataframe thead th {\n",
       "        text-align: right;\n",
       "    }\n",
       "</style>\n",
       "<table border=\"1\" class=\"dataframe\">\n",
       "  <thead>\n",
       "    <tr style=\"text-align: right;\">\n",
       "      <th></th>\n",
       "      <th>상권종류</th>\n",
       "      <th>순번</th>\n",
       "      <th>행정구역</th>\n",
       "      <th>임대시세</th>\n",
       "      <th>상존인구</th>\n",
       "      <th>상권면적</th>\n",
       "    </tr>\n",
       "  </thead>\n",
       "  <tbody>\n",
       "    <tr>\n",
       "      <th>0</th>\n",
       "      <td>골목상권</td>\n",
       "      <td>1</td>\n",
       "      <td>계동길 (가회동)</td>\n",
       "      <td>146286</td>\n",
       "      <td>33247</td>\n",
       "      <td>125351</td>\n",
       "    </tr>\n",
       "    <tr>\n",
       "      <th>1</th>\n",
       "      <td>골목상권</td>\n",
       "      <td>2</td>\n",
       "      <td>난계로27길 (숭인2동)</td>\n",
       "      <td>97158</td>\n",
       "      <td>122105</td>\n",
       "      <td>31696.2</td>\n",
       "    </tr>\n",
       "    <tr>\n",
       "      <th>2</th>\n",
       "      <td>골목상권</td>\n",
       "      <td>3</td>\n",
       "      <td>돈화문로11가길 (종로1.2.3.4가동)</td>\n",
       "      <td>205633</td>\n",
       "      <td>21928</td>\n",
       "      <td>113806</td>\n",
       "    </tr>\n",
       "    <tr>\n",
       "      <th>3</th>\n",
       "      <td>골목상권</td>\n",
       "      <td>4</td>\n",
       "      <td>명륜길 (혜화동)</td>\n",
       "      <td>136226</td>\n",
       "      <td>197932</td>\n",
       "      <td>44023.2</td>\n",
       "    </tr>\n",
       "    <tr>\n",
       "      <th>4</th>\n",
       "      <td>골목상권</td>\n",
       "      <td>5</td>\n",
       "      <td>백석동길 (부암동)</td>\n",
       "      <td>86670</td>\n",
       "      <td>4856</td>\n",
       "      <td>367064</td>\n",
       "    </tr>\n",
       "  </tbody>\n",
       "</table>\n",
       "</div>"
      ],
      "text/plain": [
       "   상권종류  순번                    행정구역    임대시세    상존인구     상권면적\n",
       "0  골목상권   1               계동길 (가회동)  146286   33247   125351\n",
       "1  골목상권   2           난계로27길 (숭인2동)   97158  122105  31696.2\n",
       "2  골목상권   3  돈화문로11가길 (종로1.2.3.4가동)  205633   21928   113806\n",
       "3  골목상권   4               명륜길 (혜화동)  136226  197932  44023.2\n",
       "4  골목상권   5              백석동길 (부암동)   86670    4856   367064"
      ]
     },
     "execution_count": 228,
     "metadata": {},
     "output_type": "execute_result"
    }
   ],
   "source": [
    "pricepop2[0:5]"
   ]
  },
  {
   "cell_type": "code",
   "execution_count": 232,
   "metadata": {},
   "outputs": [
    {
     "data": {
      "text/html": [
       "<div>\n",
       "<style scoped>\n",
       "    .dataframe tbody tr th:only-of-type {\n",
       "        vertical-align: middle;\n",
       "    }\n",
       "\n",
       "    .dataframe tbody tr th {\n",
       "        vertical-align: top;\n",
       "    }\n",
       "\n",
       "    .dataframe thead th {\n",
       "        text-align: right;\n",
       "    }\n",
       "</style>\n",
       "<table border=\"1\" class=\"dataframe\">\n",
       "  <thead>\n",
       "    <tr style=\"text-align: right;\">\n",
       "      <th></th>\n",
       "      <th>상권종류</th>\n",
       "      <th>순번</th>\n",
       "      <th>행정구역</th>\n",
       "      <th>임대시세</th>\n",
       "      <th>상존인구</th>\n",
       "      <th>상권면적</th>\n",
       "    </tr>\n",
       "  </thead>\n",
       "  <tbody>\n",
       "    <tr>\n",
       "      <th>3</th>\n",
       "      <td>골목상권</td>\n",
       "      <td>4</td>\n",
       "      <td>명륜길 (혜화동)</td>\n",
       "      <td>136226</td>\n",
       "      <td>197932</td>\n",
       "      <td>44023.2</td>\n",
       "    </tr>\n",
       "  </tbody>\n",
       "</table>\n",
       "</div>"
      ],
      "text/plain": [
       "   상권종류  순번       행정구역    임대시세    상존인구     상권면적\n",
       "3  골목상권   4  명륜길 (혜화동)  136226  197932  44023.2"
      ]
     },
     "execution_count": 232,
     "metadata": {},
     "output_type": "execute_result"
    }
   ],
   "source": [
    "pricepop2.loc[[3],:]"
   ]
  },
  {
   "cell_type": "code",
   "execution_count": 233,
   "metadata": {},
   "outputs": [],
   "source": [
    "pricepop2.to_excel(\"시세_인구_면적.xlsx\")"
   ]
  }
 ],
 "metadata": {
  "kernelspec": {
   "display_name": "Python 3",
   "language": "python",
   "name": "python3"
  },
  "language_info": {
   "codemirror_mode": {
    "name": "ipython",
    "version": 3
   },
   "file_extension": ".py",
   "mimetype": "text/x-python",
   "name": "python",
   "nbconvert_exporter": "python",
   "pygments_lexer": "ipython3",
   "version": "3.6.5"
  }
 },
 "nbformat": 4,
 "nbformat_minor": 2
}
