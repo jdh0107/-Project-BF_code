{
 "cells": [
  {
   "cell_type": "code",
   "execution_count": null,
   "metadata": {},
   "outputs": [],
   "source": [
    "from bs4 import BeautifulSoup\n",
    "import openpyxl"
   ]
  },
  {
   "cell_type": "code",
   "execution_count": null,
   "metadata": {},
   "outputs": [],
   "source": [
    "from selenium import webdriver\n",
    "driver=webdriver.Chrome('/Users/DoHyun/Anaconda3/chromedriver')"
   ]
  },
  {
   "cell_type": "code",
   "execution_count": null,
   "metadata": {},
   "outputs": [],
   "source": [
    "driver.get('https://golmok.seoul.go.kr/businessAreaAnalysis.do')\n",
    "driver.find_element_by_xpath('//*[@id=\"loginPop\"]/div/button[1]').click()"
   ]
  },
  {
   "cell_type": "code",
   "execution_count": null,
   "metadata": {},
   "outputs": [],
   "source": [
    "#1:골목상권, 2:발달상권, 3:전통시장, 4:관광특구\n",
    "def setm(mvalue):\n",
    "    m=driver.find_element_by_xpath('//*[@id=\"selectBusinessArea\"]/option['+str(mvalue)+']')\n",
    "    m.click()\n",
    "    \n",
    "def sety():\n",
    "    y=driver.find_element_by_xpath('//*[@id=\"selectYear\"]/option[2]')\n",
    "    y.click()   \n",
    "    \n",
    "def setq():\n",
    "    q=driver.find_element_by_xpath('//*[@id=\"selectQu\"]/option[3]')\n",
    "    q.click()\n",
    "\n",
    "def setbigsec():\n",
    "    bsec=driver.find_element_by_xpath('//*[@id=\"induL\"]/option[4]')\n",
    "    bsec.click()\n",
    "    \n",
    "def setsmallsec():\n",
    "    ssec=driver.find_element_by_xpath('//*[@id=\"induM\"]/option[3]')\n",
    "    ssec.click()\n",
    "\n",
    "#settype(9)는 임대시세, settype(7)는 상존인구\n",
    "def settype(tvalue):\n",
    "    t=driver.find_element_by_xpath('//*[@id=\"infoCategory\"]/option['+str(tvalue)+']')\n",
    "    t.click()"
   ]
  },
  {
   "cell_type": "markdown",
   "metadata": {},
   "source": [
    "임대시세 파트"
   ]
  },
  {
   "cell_type": "markdown",
   "metadata": {},
   "source": [
    "1. (임대시세)골목상권 추출- setm(1)"
   ]
  },
  {
   "cell_type": "code",
   "execution_count": null,
   "metadata": {},
   "outputs": [],
   "source": [
    "setm(1)\n",
    "sety()\n",
    "setq()\n",
    "settype(9)\n",
    "driver.find_element_by_xpath('//*[@id=\"presentSearch\"]').click()"
   ]
  },
  {
   "cell_type": "code",
   "execution_count": null,
   "metadata": {},
   "outputs": [],
   "source": [
    "req=driver.page_source\n",
    "soup=BeautifulSoup(req,'html.parser')"
   ]
  },
  {
   "cell_type": "code",
   "execution_count": null,
   "metadata": {
    "scrolled": true
   },
   "outputs": [],
   "source": [
    "body_tag=soup.select('tr.leaf > td')\n",
    "rocnum=[]\n",
    "for i in body_tag:\n",
    "    rocnum.append(i.get_text())\n",
    "total=[['' for col in range(2)]for row in range(int(len(rocnum)/10))]\n",
    "total\n",
    "for i in range(int(len(rocnum)/10)):\n",
    "    total[i][0]=rocnum[10*i]\n",
    "    if rocnum[10*i+7]!=' ':\n",
    "        total[i][1]=int(rocnum[10*i+7].replace(',',''))\n",
    "    else:\n",
    "        total[i][1]='-'\n",
    "    print(total[i][0],total[i][1])"
   ]
  },
  {
   "cell_type": "markdown",
   "metadata": {},
   "source": [
    "2. (임대시세)발달상권 추출- setm(2)"
   ]
  },
  {
   "cell_type": "code",
   "execution_count": null,
   "metadata": {},
   "outputs": [],
   "source": [
    "setm(2)\n",
    "sety()\n",
    "setq()\n",
    "settype(9)\n",
    "driver.find_element_by_xpath('//*[@id=\"presentSearch\"]').click()"
   ]
  },
  {
   "cell_type": "code",
   "execution_count": null,
   "metadata": {},
   "outputs": [],
   "source": [
    "req2=driver.page_source\n",
    "soup2=BeautifulSoup(req2,'html.parser')"
   ]
  },
  {
   "cell_type": "code",
   "execution_count": null,
   "metadata": {},
   "outputs": [],
   "source": [
    "body_tag2=soup2.select('tr.leaf > td')\n",
    "rocnum2=[]\n",
    "for i in body_tag2:\n",
    "    rocnum2.append(i.get_text())\n",
    "total2=[['' for col in range(2)]for row in range(int(len(rocnum2)/10))]\n",
    "for i in range(int(len(rocnum2)/10)):\n",
    "    total2[i][0]=rocnum2[10*i]\n",
    "    if rocnum2[10*i+7]!=' ':\n",
    "        total2[i][1]=int(rocnum2[10*i+7].replace(',',''))\n",
    "    else:\n",
    "        total2[i][1]='-'\n",
    "    print(total2[i][0],total2[i][1])"
   ]
  },
  {
   "cell_type": "markdown",
   "metadata": {},
   "source": [
    "3. (임대시세)전통시장 추출- setm(3)"
   ]
  },
  {
   "cell_type": "code",
   "execution_count": null,
   "metadata": {},
   "outputs": [],
   "source": [
    "setm(3)\n",
    "sety()\n",
    "setq()\n",
    "settype(9)\n",
    "driver.find_element_by_xpath('//*[@id=\"presentSearch\"]').click()"
   ]
  },
  {
   "cell_type": "code",
   "execution_count": null,
   "metadata": {},
   "outputs": [],
   "source": [
    "req3=driver.page_source\n",
    "soup3=BeautifulSoup(req3,'html.parser')\n",
    "\n",
    "body_tag3=soup3.select('tr.leaf > td')\n",
    "rocnum3=[]\n",
    "for i in body_tag3:\n",
    "    rocnum3.append(i.get_text())\n",
    "total3=[['' for col in range(2)]for row in range(int(len(rocnum3)/10))]\n",
    "for i in range(int(len(rocnum3)/10)):\n",
    "    total3[i][0]=rocnum3[10*i]\n",
    "    if rocnum3[10*i+7]!=' ':\n",
    "        total3[i][1]=int(rocnum3[10*i+7].replace(',',''))\n",
    "    else:\n",
    "        total3[i][1]='-'\n",
    "    print(total3[i][0],total3[i][1])"
   ]
  },
  {
   "cell_type": "markdown",
   "metadata": {},
   "source": [
    "4. (임대시세)관광특구 추출- setm(4)"
   ]
  },
  {
   "cell_type": "code",
   "execution_count": null,
   "metadata": {},
   "outputs": [],
   "source": [
    "setm(4)\n",
    "sety()\n",
    "setq()\n",
    "settype(9)\n",
    "driver.find_element_by_xpath('//*[@id=\"presentSearch\"]').click()"
   ]
  },
  {
   "cell_type": "code",
   "execution_count": null,
   "metadata": {},
   "outputs": [],
   "source": [
    "req4=driver.page_source\n",
    "soup4=BeautifulSoup(req4,'html.parser')\n",
    "\n",
    "body_tag4=soup4.select('tr.leaf > td')\n",
    "rocnum4=[]\n",
    "for i in body_tag4:\n",
    "    rocnum4.append(i.get_text())\n",
    "total4=[['' for col in range(2)]for row in range(int(len(rocnum4)/10))]\n",
    "for i in range(int(len(rocnum4)/10)):\n",
    "    total4[i][0]=rocnum4[10*i]\n",
    "    if rocnum4[10*i+7]!=' ':\n",
    "        total4[i][1]=int(rocnum4[10*i+7].replace(',',''))\n",
    "    else:\n",
    "        total4[i][1]='-'\n",
    "    print(total4[i][0],total4[i][1])"
   ]
  },
  {
   "cell_type": "markdown",
   "metadata": {},
   "source": [
    "상존인구 파트"
   ]
  },
  {
   "cell_type": "markdown",
   "metadata": {},
   "source": [
    "1. (상존인구)골목상권 추가 - setm(1)"
   ]
  },
  {
   "cell_type": "code",
   "execution_count": null,
   "metadata": {},
   "outputs": [],
   "source": [
    "setm(1)\n",
    "sety()\n",
    "setq()\n",
    "settype(7)\n",
    "driver.find_element_by_xpath('//*[@id=\"presentSearch\"]').click()"
   ]
  },
  {
   "cell_type": "code",
   "execution_count": null,
   "metadata": {},
   "outputs": [],
   "source": [
    "popreq=driver.page_source\n",
    "popsoup=BeautifulSoup(popreq,'html.parser')\n",
    "\n",
    "popbody_tag=popsoup.select('tr.leaf > td')\n",
    "popnum=[]\n",
    "for i in popbody_tag:\n",
    "    popnum.append(i.get_text())\n",
    "poptotal=[['' for col in range(2)]for row in range(int(len(popnum)/13))]\n",
    "for i in range(int(len(popnum)/13)):\n",
    "    poptotal[i][0]=popnum[13*i]\n",
    "    if popnum[13*i+9]!=' ':\n",
    "        poptotal[i][1]=int(popnum[13*i+9].replace(',',''))\n",
    "    else:\n",
    "        poptotal[i][1]='-'\n",
    "    print(poptotal[i][0],poptotal[i][1])"
   ]
  },
  {
   "cell_type": "markdown",
   "metadata": {},
   "source": [
    "2. (상존인구)발달상권 추가 - setm(2)"
   ]
  },
  {
   "cell_type": "code",
   "execution_count": null,
   "metadata": {},
   "outputs": [],
   "source": [
    "setm(2)\n",
    "sety()\n",
    "setq()\n",
    "settype(7)\n",
    "driver.find_element_by_xpath('//*[@id=\"presentSearch\"]').click()"
   ]
  },
  {
   "cell_type": "code",
   "execution_count": null,
   "metadata": {},
   "outputs": [],
   "source": [
    "popreq2=driver.page_source\n",
    "popsoup2=BeautifulSoup(popreq2,'html.parser')\n",
    "\n",
    "popbody_tag2=popsoup2.select('tr.leaf > td')\n",
    "popnum2=[]\n",
    "for i in popbody_tag2:\n",
    "    popnum2.append(i.get_text())\n",
    "poptotal2=[['' for col in range(2)]for row in range(int(len(popnum2)/13))]\n",
    "for i in range(int(len(popnum2)/13)):\n",
    "    poptotal2[i][0]=popnum2[13*i]\n",
    "    if popnum2[13*i+9]!=' ':\n",
    "        poptotal2[i][1]=int(popnum2[13*i+9].replace(',',''))\n",
    "    else:\n",
    "        poptotal2[i][1]='-'\n",
    "    print(poptotal2[i][0],poptotal2[i][1])"
   ]
  },
  {
   "cell_type": "markdown",
   "metadata": {},
   "source": [
    "3. (상존인구)전통시장 추가 - setm(3)"
   ]
  },
  {
   "cell_type": "code",
   "execution_count": null,
   "metadata": {},
   "outputs": [],
   "source": [
    "setm(3)\n",
    "sety()\n",
    "setq()\n",
    "settype(7)\n",
    "driver.find_element_by_xpath('//*[@id=\"presentSearch\"]').click()"
   ]
  },
  {
   "cell_type": "code",
   "execution_count": null,
   "metadata": {},
   "outputs": [],
   "source": [
    "popreq3=driver.page_source\n",
    "popsoup3=BeautifulSoup(popreq3,'html.parser')\n",
    "\n",
    "popbody_tag3=popsoup3.select('tr.leaf > td')\n",
    "popnum3=[]\n",
    "for i in popbody_tag3:\n",
    "    popnum3.append(i.get_text())\n",
    "poptotal3=[['' for col in range(2)]for row in range(int(len(popnum3)/13))]\n",
    "for i in range(int(len(popnum3)/13)):\n",
    "    poptotal3[i][0]=popnum3[13*i]\n",
    "    if popnum3[13*i+9]!=' ':\n",
    "        poptotal3[i][1]=int(popnum3[13*i+9].replace(',',''))\n",
    "    else:\n",
    "        poptotal3[i][1]='-'\n",
    "    print(poptotal3[i][0],poptotal3[i][1])"
   ]
  },
  {
   "cell_type": "markdown",
   "metadata": {},
   "source": [
    "4. (상존인구)관광특구 추가 - setm(4)"
   ]
  },
  {
   "cell_type": "code",
   "execution_count": null,
   "metadata": {},
   "outputs": [],
   "source": [
    "setm(4)\n",
    "sety()\n",
    "setq()\n",
    "settype(7)\n",
    "driver.find_element_by_xpath('//*[@id=\"presentSearch\"]').click()"
   ]
  },
  {
   "cell_type": "code",
   "execution_count": null,
   "metadata": {},
   "outputs": [],
   "source": [
    "popreq4=driver.page_source\n",
    "popsoup4=BeautifulSoup(popreq4,'html.parser')\n",
    "\n",
    "popbody_tag4=popsoup4.select('tr.leaf > td')\n",
    "popnum4=[]\n",
    "for i in popbody_tag4:\n",
    "    popnum4.append(i.get_text())\n",
    "poptotal4=[['' for col in range(2)]for row in range(int(len(popnum4)/13))]\n",
    "for i in range(int(len(popnum4)/13)):\n",
    "    poptotal4[i][0]=popnum4[13*i]\n",
    "    if popnum4[13*i+9]!=' ':\n",
    "        poptotal4[i][1]=int(popnum4[13*i+9].replace(',',''))\n",
    "    else:\n",
    "        poptotal4[i][1]='-'\n",
    "    print(poptotal4[i][0],poptotal4[i][1])"
   ]
  },
  {
   "cell_type": "markdown",
   "metadata": {},
   "source": [
    "엑셀 파일 생성 파트"
   ]
  },
  {
   "cell_type": "code",
   "execution_count": null,
   "metadata": {},
   "outputs": [],
   "source": [
    "excel_file=openpyxl.Workbook()\n",
    "excel_sheet=excel_file.active"
   ]
  },
  {
   "cell_type": "code",
   "execution_count": null,
   "metadata": {},
   "outputs": [],
   "source": [
    "excel_sheet.append(['상권종류','순번','행정구역','임대시세','상존인구'])\n",
    "excel_sheet.append(['골목상권','','','',''])\n",
    "num=0\n",
    "for i in range(len(total)):\n",
    "    num+=1\n",
    "    excel_sheet.append(['',num,total[i][0],total[i][1],poptotal[i][1]])\n",
    "\n",
    "excel_sheet.append(['발달상권','','','',''])\n",
    "for i in range(len(total2)):\n",
    "    num+=1\n",
    "    excel_sheet.append(['',num,total2[i][0],total2[i][1],poptotal2[i][1]])\n",
    "    \n",
    "excel_sheet.append(['전통시장','','','',''])\n",
    "for i in range(len(total3)):\n",
    "    num+=1\n",
    "    excel_sheet.append(['',num,total3[i][0],total3[i][1],poptotal3[i][1]])\n",
    "    \n",
    "excel_sheet.append(['관광특구','','','',''])\n",
    "for i in range(len(total4)):\n",
    "    num+=1\n",
    "    excel_sheet.append(['',num,total4[i][0],total4[i][1],poptotal4[i][1]])"
   ]
  },
  {
   "cell_type": "code",
   "execution_count": null,
   "metadata": {},
   "outputs": [],
   "source": [
    "excel_file.save('pricepop.xlsx')\n",
    "excel_file.close()"
   ]
  }
 ],
 "metadata": {
  "kernelspec": {
   "display_name": "Python 3",
   "language": "python",
   "name": "python3"
  },
  "language_info": {
   "codemirror_mode": {
    "name": "ipython",
    "version": 3
   },
   "file_extension": ".py",
   "mimetype": "text/x-python",
   "name": "python",
   "nbconvert_exporter": "python",
   "pygments_lexer": "ipython3",
   "version": "3.6.5"
  }
 },
 "nbformat": 4,
 "nbformat_minor": 2
}
